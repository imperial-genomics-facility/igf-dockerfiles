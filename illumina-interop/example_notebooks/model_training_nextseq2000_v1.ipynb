{
 "cells": [
  {
   "cell_type": "markdown",
   "id": "6de1717e-4b86-484f-9e8e-7b740814340c",
   "metadata": {
    "tags": []
   },
   "source": [
    "## Load training dataset from parquet file\n",
    "We are loading data from a list of parquest files."
   ]
  },
  {
   "cell_type": "code",
   "execution_count": null,
   "id": "930c7e44-7d90-49a3-9901-79299f51a44d",
   "metadata": {},
   "outputs": [],
   "source": [
    "metrics_parquet_list = [\n",
    "    '230803_VH00972_180_AACNG7GM5_interop_2023_Oct_19_15_09/230803_VH00972_180_AACNG7GM5_tile.parquet',\n",
    "    '230804_VH00972_181_AACV5CHM5_interop_2023_Oct_19_15_11/230804_VH00972_181_AACV5CHM5_tile.parquet',\n",
    "    '230810_VH00972_185_AAC3WL7HV_interop_2023_Oct_19_15_22/230810_VH00972_185_AAC3WL7HV_tile.parquet',\n",
    "    '230821_VH00972_190_AAC5HJYHV_interop_2023_Oct_19_23_23/230821_VH00972_190_AAC5HJYHV_tile.parquet',\n",
    "    '230823_VH00972_192_AAC5HKMHV_interop_2023_Oct_19_23_27/230823_VH00972_192_AAC5HKMHV_tile.parquet',\n",
    "    '230824_VH00972_193_AACVFWKM5_interop_2023_Oct_19_23_29/230824_VH00972_193_AACVFWKM5_tile.parquet',\n",
    "    '230829_VH00972_195_AAC5HJNHV_interop_2023_Oct_19_23_34/230829_VH00972_195_AAC5HJNHV_tile.parquet',\n",
    "    '230830_VH00972_196_AACTYFVM5_interop_2023_Oct_19_23_36/230830_VH00972_196_AACTYFVM5_tile.parquet',\n",
    "    '230904_VH00972_198_AAC5HF5HV_interop_2023_Oct_19_23_40/230904_VH00972_198_AAC5HF5HV_tile.parquet',\n",
    "    '230905_VH00972_199_AACVFYGM5_interop_2023_Oct_19_23_42/230905_VH00972_199_AACVFYGM5_tile.parquet',\n",
    "    '230727_VH00972_176_AAC3WKCHV_interop_2023_Oct_19_15_00/230727_VH00972_176_AAC3WKCHV_tile.parquet',\n",
    "    '230731_VH00972_177_AAC3WNLHV_interop_2023_Oct_19_15_03/230731_VH00972_177_AAC3WNLHV_tile.parquet',\n",
    "    '230925_VH00972_207_AACVY5KM5_interop_2023_Oct_20_10_01/230925_VH00972_207_AACVY5KM5_tile.parquet',\n",
    "    '230928_VH00972_210_AACTYCLM5_interop_2023_Oct_20_10_05/230928_VH00972_210_AACTYCLM5_tile.parquet',\n",
    "    '230920_VH00972_205_AAC5KGMHV_interop/230920_VH00972_205_AAC5KGMHV_tile.parquet',\n",
    "    '231003_VH00972_212_AAC5HK3HV_interop_2023_Oct_20_10_06/231003_VH00972_212_AAC5HK3HV_tile.parquet']"
   ]
  },
  {
   "cell_type": "markdown",
   "id": "0860639f-149b-4beb-927b-8cb3d58ea7d7",
   "metadata": {},
   "source": [
    "## Load all the Python libraries"
   ]
  },
  {
   "cell_type": "code",
   "execution_count": null,
   "id": "3f591ff2-3db5-4c9d-8cce-15e4d1a6f20f",
   "metadata": {
    "tags": []
   },
   "outputs": [],
   "source": [
    "from pyspark.sql import SparkSession\n",
    "import pandas as pd\n",
    "import numpy as np\n",
    "import matplotlib.pyplot as plt\n",
    "from pyspark.sql import SparkSession\n",
    "import pyspark.sql.functions as sf\n",
    "import xgboost as xgb\n",
    "from sklearn.svm import SVC\n",
    "from sklearn.dummy import DummyClassifier\n",
    "from sklearn.model_selection import GridSearchCV\n",
    "from sklearn.ensemble import RandomForestClassifier\n",
    "from sklearn.preprocessing import (\n",
    "    StandardScaler,\n",
    "    MinMaxScaler)\n",
    "from sklearn.compose import ColumnTransformer\n",
    "from sklearn.model_selection import (\n",
    "    train_test_split,\n",
    "    cross_validate)\n",
    "from sklearn.metrics import (\n",
    "    confusion_matrix,\n",
    "    f1_score, \n",
    "    classification_report,\n",
    "    precision_recall_curve,\n",
    "    average_precision_score,\n",
    "    roc_curve)\n",
    "from sklearn.pipeline import Pipeline"
   ]
  },
  {
   "cell_type": "markdown",
   "id": "a5dbc0e3-7f62-4eb6-86e6-29ffde88efaa",
   "metadata": {},
   "source": [
    "## Read data using PySpark"
   ]
  },
  {
   "cell_type": "code",
   "execution_count": null,
   "id": "ba9a32a8-0ede-4ac6-8795-374a2d70c3f4",
   "metadata": {
    "tags": []
   },
   "outputs": [],
   "source": [
    "spark = SparkSession.builder.master(\"local[4]\").getOrCreate()"
   ]
  },
  {
   "cell_type": "code",
   "execution_count": null,
   "id": "ba12aee4-6aa6-410e-bbf6-940d36c87488",
   "metadata": {},
   "outputs": [],
   "source": [
    "training_df = spark.read.parquet(*metrics_parquet_list)"
   ]
  },
  {
   "cell_type": "code",
   "execution_count": null,
   "id": "b50eac37-10f4-458d-8f86-4dd29a6c626c",
   "metadata": {
    "tags": []
   },
   "outputs": [],
   "source": [
    "labelDataDf = spark.createDataFrame(pd.DataFrame([\n",
    "    {\"Run_id\": \"230803_VH00972_180_AACNG7GM5\", \"Lane\": 1, \"is_failed\": 0},\n",
    "    {\"Run_id\": \"230804_VH00972_181_AACV5CHM5\", \"Lane\": 1, \"is_failed\": 0},\n",
    "    {\"Run_id\": \"230810_VH00972_185_AAC3WL7HV\", \"Lane\": 1, \"is_failed\": 0},\n",
    "    {\"Run_id\": \"230810_VH00972_185_AAC3WL7HV\", \"Lane\": 2, \"is_failed\": 0},\n",
    "    {\"Run_id\": \"230821_VH00972_190_AAC5HJYHV\", \"Lane\": 1, \"is_failed\": 1},\n",
    "    {\"Run_id\": \"230821_VH00972_190_AAC5HJYHV\", \"Lane\": 2, \"is_failed\": 1},\n",
    "    {\"Run_id\": \"230823_VH00972_192_AAC5HKMHV\", \"Lane\": 1, \"is_failed\": 0},\n",
    "    {\"Run_id\": \"230823_VH00972_192_AAC5HKMHV\", \"Lane\": 2, \"is_failed\": 0},\n",
    "    {\"Run_id\": \"230824_VH00972_193_AACVFWKM5\", \"Lane\": 1, \"is_failed\": 1},\n",
    "    {\"Run_id\": \"230829_VH00972_195_AAC5HJNHV\", \"Lane\": 1, \"is_failed\": 0},\n",
    "    {\"Run_id\": \"230829_VH00972_195_AAC5HJNHV\", \"Lane\": 2, \"is_failed\": 0},\n",
    "    {\"Run_id\": \"230830_VH00972_196_AACTYFVM5\", \"Lane\": 1, \"is_failed\": 0},\n",
    "    {\"Run_id\": \"230904_VH00972_198_AAC5HF5HV\", \"Lane\": 1, \"is_failed\": 0},\n",
    "    {\"Run_id\": \"230904_VH00972_198_AAC5HF5HV\", \"Lane\": 2, \"is_failed\": 0},\n",
    "    {\"Run_id\": \"230905_VH00972_199_AACVFYGM5\", \"Lane\": 1, \"is_failed\": 1},\n",
    "    {\"Run_id\": \"230727_VH00972_176_AAC3WKCHV\", \"Lane\": 1, \"is_failed\": 1},\n",
    "    {\"Run_id\": \"230727_VH00972_176_AAC3WKCHV\", \"Lane\": 2, \"is_failed\": 1},\n",
    "    {\"Run_id\": \"230731_VH00972_177_AAC3WNLHV\", \"Lane\": 1, \"is_failed\": 1},\n",
    "    {\"Run_id\": \"230731_VH00972_177_AAC3WNLHV\", \"Lane\": 2, \"is_failed\": 1},\n",
    "    {\"Run_id\": \"230925_VH00972_207_AACVY5KM5\", \"Lane\": 1, \"is_failed\": 1},\n",
    "    {\"Run_id\": \"230928_VH00972_210_AACTYCLM5\", \"Lane\": 1, \"is_failed\": 1},\n",
    "    {\"Run_id\": \"230920_VH00972_205_AAC5KGMHV\", \"Lane\": 1, \"is_failed\": 1},\n",
    "    {\"Run_id\": \"230920_VH00972_205_AAC5KGMHV\", \"Lane\": 2, \"is_failed\": 1},\n",
    "    {\"Run_id\": \"231003_VH00972_212_AAC5HK3HV\", \"Lane\": 1, \"is_failed\": 0},\n",
    "    {\"Run_id\": \"231003_VH00972_212_AAC5HK3HV\", \"Lane\": 2, \"is_failed\": 1}\n",
    "]))"
   ]
  },
  {
   "cell_type": "markdown",
   "id": "f5ed4568-e6c4-4605-aa7f-d35c6f4c4465",
   "metadata": {},
   "source": [
    "## Add data lebel to training data"
   ]
  },
  {
   "cell_type": "code",
   "execution_count": null,
   "id": "fee4dfed-a62b-4e9a-baa5-bd8c25b594fc",
   "metadata": {},
   "outputs": [],
   "source": [
    "joinExpression = \\\n",
    "    (training_df['Run_id']==labelDataDf['Run_id'])&\\\n",
    "    (training_df['Lane']==labelDataDf['Lane'])\n",
    "joinType = \"inner\"\n",
    "## set alias\n",
    "training_df_alias = training_df.alias('m')\n",
    "labelDataDf_alias = labelDataDf.alias('l')\n",
    "## join df\n",
    "joined_df = \\\n",
    "    training_df_alias.\\\n",
    "    join(labelDataDf_alias, joinExpression, joinType).\\\n",
    "    select(\n",
    "        \"m.Run_id\",\n",
    "        \"m.Lane\",\n",
    "        'm.Tile',\n",
    "        'm.PCT_ClusterCountPF',\n",
    "        'm.PCT_DensityPF',\n",
    "        'm.mean_CalledCount_A',\n",
    "        'm.mean_CalledCount_T',\n",
    "        'm.mean_CalledCount_G',\n",
    "        'm.mean_CalledCount_C',\n",
    "        'm.PCT_Q30',\n",
    "        'm.mean_ErrorRate',\n",
    "        'm.PCT_Occupied',\n",
    "        'm.intensity_c1',\n",
    "        'm.slope_p',\n",
    "        'm.offset_p',\n",
    "        'm.slope_pr',\n",
    "        'm.offset_pr',\n",
    "        \"l.is_failed\"\n",
    "    )"
   ]
  },
  {
   "cell_type": "markdown",
   "id": "a4f944ad-883b-4b7d-86a5-5eb2b534124a",
   "metadata": {},
   "source": [
    "## Write joined data to a parquet file"
   ]
  },
  {
   "cell_type": "code",
   "execution_count": null,
   "id": "a658e1da-84c6-4caf-9038-04597fae0282",
   "metadata": {},
   "outputs": [],
   "source": [
    "joined_df.write.parquet('joined_table.parquet', mode='overwrite')"
   ]
  },
  {
   "cell_type": "markdown",
   "id": "901e853b-28e8-4a22-a73f-3d46d6415494",
   "metadata": {},
   "source": [
    "## Modify data to training and test set"
   ]
  },
  {
   "cell_type": "code",
   "execution_count": null,
   "id": "5f3d24d1-c6e7-4700-a0ab-db531fbdfb6c",
   "metadata": {
    "tags": []
   },
   "outputs": [],
   "source": [
    "## read data from parquet file, if required\n",
    "df = spark.read.parquet('joined_table.parquet')\n",
    "pdf = df.toPandas()\n",
    "##\n",
    "## dividie data to training or test set\n",
    "##\n",
    "X = pdf[['PCT_ClusterCountPF', 'PCT_DensityPF',\n",
    "         'mean_CalledCount_A', 'mean_CalledCount_T', 'mean_CalledCount_G',\n",
    "         'mean_CalledCount_C', 'PCT_Q30', 'PCT_Occupied',\n",
    "         'intensity_c1', 'slope_p', 'offset_p', 'slope_pr', 'offset_pr']]\n",
    "y = pdf['is_failed']\n",
    "X = \\\n",
    "    X.astype({\n",
    "        'PCT_ClusterCountPF': float,\n",
    "        'PCT_DensityPF': float,\n",
    "        'PCT_Occupied': float})\n",
    "X_train, X_test, y_train, y_test = \\\n",
    "    train_test_split(X, y, random_state=42, stratify=y)"
   ]
  },
  {
   "cell_type": "markdown",
   "id": "a49c5099-d91b-44ae-9071-a5ad4a87bea7",
   "metadata": {},
   "source": [
    "## Training model using Dummy Classifier"
   ]
  },
  {
   "cell_type": "code",
   "execution_count": null,
   "id": "19b12114-d387-4141-8c9c-0e0c86b0969e",
   "metadata": {
    "tags": []
   },
   "outputs": [],
   "source": [
    "dc = DummyClassifier()\n",
    "dc.fit(X_train ,y_train)\n",
    "print(f\"Dummy classifier score: {dc.score(X_test, y_test):.2f}\")\n",
    "print(f\"Confusion matrix:\\n {confusion_matrix(y_test, dc.predict(X_test))}\")\n",
    "print(f\"F1 score: {f1_score(y_test, dc.predict(X_test), average='weighted'):.2f}\")\n",
    "print(f\"classification report:\\n{classification_report(y_test, dc.predict(X_test))}\")\n",
    "print(f\"Cross validation score:\\n{cross_validate(dc, X_train, y_train, cv=5)}\")\n",
    "print(f\"Average precision score: {average_precision_score(y_test, dc.predict_proba(X_test)[:, 1]):.4f}\")\n",
    "precision, recall, thresholds = \\\n",
    "    precision_recall_curve(y_test, dc.predict_proba(X_test)[:, 1])\n",
    "close_zero = \\\n",
    "    np.argmin(np.abs(thresholds - 0.5))\n",
    "plt.plot(\n",
    "    precision[close_zero],\n",
    "    recall[close_zero],\n",
    "    \"o\",\n",
    "    label=\"threshold zero\",\n",
    "    fillstyle=\"none\")\n",
    "plt.plot(\n",
    "    precision,\n",
    "    recall,\n",
    "    label=\"Precision - recall - XGBoost\")\n",
    "plt.xlabel(\"Precision\")\n",
    "plt.ylabel(\"Recall\")\n",
    "plt.legend(loc='best')\n",
    "plt.show()\n",
    "fpr, tpr, thresholds = \\\n",
    "    roc_curve(\n",
    "        y_test,\n",
    "        dc.predict_proba(X_test)[:, 1])\n",
    "plt.plot(fpr, tpr, label=\"ROC - RF\")\n",
    "close_zero = \\\n",
    "    np.argmin(np.abs(thresholds - 0.5))\n",
    "plt.plot(\n",
    "    fpr[close_zero],\n",
    "    tpr[close_zero],\n",
    "    \"o\",\n",
    "    label=\"threshold\",\n",
    "    fillstyle=\"none\")\n",
    "plt.xlabel(\"FPR\")\n",
    "plt.ylabel(\"TPR\")\n",
    "plt.legend(loc=\"best\")\n",
    "plt.show()"
   ]
  },
  {
   "cell_type": "markdown",
   "id": "8ef56d89-aceb-4fe3-9d2a-d283e6f4186c",
   "metadata": {},
   "source": [
    "## Training model using RandomForest classifier"
   ]
  },
  {
   "cell_type": "code",
   "execution_count": null,
   "id": "9b79a0d3-f1a3-4960-b82a-0697ac7bc45a",
   "metadata": {
    "tags": []
   },
   "outputs": [],
   "source": [
    "rf = RandomForestClassifier()\n",
    "rf.fit(X_train ,y_train)\n",
    "print(f\"Random forest classifier score: {rf.score(X_test, y_test):.2f}\")\n",
    "print(f\"Confusion matrix:\\n {confusion_matrix(y_test, rf.predict(X_test))}\")\n",
    "print(f\"F1 score: {f1_score(y_test, rf.predict(X_test), average='weighted'):.2f}\")\n",
    "print(f\"classification report:\\n{classification_report(y_test, rf.predict(X_test))}\")\n",
    "print(f\"Cross validation score:\\n{cross_validate(rf, X_train, y_train, cv=5)}\")\n",
    "print(f\"Average precision score: {average_precision_score(y_test, rf.predict_proba(X_test)[:, 1]):.4f}\")\n",
    "precision, recall, thresholds = \\\n",
    "    precision_recall_curve(\n",
    "        y_test,\n",
    "        rf.predict_proba(X_test)[:, 1])\n",
    "close_zero = \\\n",
    "    np.argmin(np.abs(thresholds - 0.5))\n",
    "plt.plot(\n",
    "    precision[close_zero],\n",
    "    recall[close_zero],\n",
    "    \"o\",\n",
    "    label=\"threshold zero\",\n",
    "    fillstyle=\"none\")\n",
    "plt.plot(\n",
    "    precision,\n",
    "    recall,\n",
    "    label=\"Precision - recall - XGBoost\")\n",
    "plt.xlabel(\"Precision\")\n",
    "plt.ylabel(\"Recall\")\n",
    "plt.legend(loc='best')\n",
    "plt.show()\n",
    "fpr, tpr, thresholds = \\\n",
    "    roc_curve(\n",
    "        y_test,\n",
    "        rf.predict_proba(X_test)[:, 1])\n",
    "plt.plot(fpr, tpr, label=\"ROC - RF\")\n",
    "close_zero = \\\n",
    "    np.argmin(np.abs(thresholds - 0.5))\n",
    "plt.plot(\n",
    "    fpr[close_zero],\n",
    "    tpr[close_zero],\n",
    "    \"o\",\n",
    "    label=\"threshold\",\n",
    "    fillstyle=\"none\")\n",
    "plt.xlabel(\"FPR\")\n",
    "plt.ylabel(\"TPR\")\n",
    "plt.legend(loc=\"best\")\n",
    "plt.show()"
   ]
  },
  {
   "cell_type": "markdown",
   "id": "c7f7100c-a9be-4c42-94b0-a744e1d252cb",
   "metadata": {},
   "source": [
    "## Training model with XGBoost"
   ]
  },
  {
   "cell_type": "code",
   "execution_count": null,
   "id": "f4fd285b-e066-4149-8a78-2b614f71c0c4",
   "metadata": {
    "tags": []
   },
   "outputs": [],
   "source": [
    "xgbc = \\\n",
    "    xgb.XGBClassifier(objective='binary:logistic')\n",
    "xgbc.fit(X_train ,y_train)\n",
    "print(f\"XGBoost classifier score: {xgbc.score(X_test, y_test):.2f}\")\n",
    "print(f\"Confusion matrix:\\n {confusion_matrix(y_test, xgbc.predict(X_test))}\")\n",
    "print(f\"F1 score: {f1_score(y_test, xgbc.predict(X_test), average='weighted'):.2f}\")\n",
    "print(f\"classification report:\\n{classification_report(y_test, xgbc.predict(X_test))}\")\n",
    "print(f\"Cross validation score:\\n{cross_validate(xgbc, X_train, y_train, cv=5)}\")\n",
    "print(f\"Average precision score: {average_precision_score(y_test, xgbc.predict_proba(X_test)[:, 1]):.4f}\")\n",
    "precision, recall, thresholds = \\\n",
    "    precision_recall_curve(\n",
    "        y_test,\n",
    "        xgbc.predict_proba(X_test)[:, 1])\n",
    "close_zero = \\\n",
    "    np.argmin(np.abs(thresholds - 0.5))\n",
    "plt.plot(\n",
    "    precision[close_zero],\n",
    "    recall[close_zero],\n",
    "    \"o\",\n",
    "    label=\"threshold zero\",\n",
    "    fillstyle=\"none\")\n",
    "plt.plot(\n",
    "    precision,\n",
    "    recall,\n",
    "    label=\"Precision - recall - XGBoost\")\n",
    "plt.xlabel(\"Precision\")\n",
    "plt.ylabel(\"Recall\")\n",
    "plt.legend(loc='best')\n",
    "plt.show()\n",
    "fpr, tpr, thresholds = \\\n",
    "    roc_curve(\n",
    "        y_test,\n",
    "        xgbc.predict_proba(X_test)[:, 1])\n",
    "plt.plot(fpr, tpr, label=\"ROC - RF\")\n",
    "close_zero = \\\n",
    "    np.argmin(np.abs(thresholds - 0.5))\n",
    "plt.plot(\n",
    "    fpr[close_zero],\n",
    "    tpr[close_zero],\n",
    "    \"o\",\n",
    "    label=\"threshold\",\n",
    "    fillstyle=\"none\")\n",
    "plt.xlabel(\"FPR\")\n",
    "plt.ylabel(\"TPR\")\n",
    "plt.legend(loc=\"best\")\n",
    "plt.show()"
   ]
  },
  {
   "cell_type": "markdown",
   "id": "a418d5da-b1c2-4798-9da1-68d4e6a5b207",
   "metadata": {},
   "source": [
    "## Training model using Support Vector Machine (SVC)"
   ]
  },
  {
   "cell_type": "code",
   "execution_count": null,
   "id": "dcf33106-5643-4dad-b4da-ffe1a46d274a",
   "metadata": {
    "tags": []
   },
   "outputs": [],
   "source": [
    "svc = SVC()\n",
    "svc.fit(X_train ,y_train)\n",
    "print(f\"SVC classifier score: {svc.score(X_test, y_test):.2f}\")\n",
    "print(f\"Confusion matrix:\\n {confusion_matrix(y_test, svc.predict(X_test))}\")\n",
    "print(f\"F1 score: {f1_score(y_test, svc.predict(X_test), average='weighted'):.2f}\")\n",
    "print(f\"classification report:\\n{classification_report(y_test, svc.predict(X_test))}\")\n",
    "print(f\"Cross validation score:\\n{cross_validate(svc, X_train, y_train, cv=5)}\")\n",
    "print(f\"Average precision score: {average_precision_score(y_test, svc.decision_function(X_test)):.4f}\")\n",
    "precision, recall, thresholds = \\\n",
    "    precision_recall_curve(\n",
    "        y_test,\n",
    "        svc.decision_function(X_test))\n",
    "close_zero = \\\n",
    "    np.argmin(np.abs(thresholds))\n",
    "plt.plot(\n",
    "    precision[close_zero],\n",
    "    recall[close_zero],\n",
    "    \"o\",\n",
    "    label=\"threshold zero\",\n",
    "    fillstyle=\"none\")\n",
    "plt.plot(\n",
    "    precision,\n",
    "    recall,\n",
    "    label=\"Precision - recall - XGBoost\")\n",
    "plt.xlabel(\"Precision\")\n",
    "plt.ylabel(\"Recall\")\n",
    "plt.legend(loc='best')\n",
    "plt.show()\n",
    "fpr, tpr, thresholds = \\\n",
    "    roc_curve(\n",
    "        y_test,\n",
    "    svc.decision_function(X_test))\n",
    "plt.plot(fpr, tpr, label=\"ROC - RF\")\n",
    "close_zero = \\\n",
    "    np.argmin(np.abs(thresholds))\n",
    "plt.plot(\n",
    "    fpr[close_zero],\n",
    "    tpr[close_zero],\n",
    "    \"o\",\n",
    "    label=\"threshold\",\n",
    "    fillstyle=\"none\")\n",
    "plt.xlabel(\"FPR\")\n",
    "plt.ylabel(\"TPR\")\n",
    "plt.legend(loc=\"best\")\n",
    "plt.show()"
   ]
  },
  {
   "cell_type": "markdown",
   "id": "eddc357c-6d4d-47e0-8058-fd66805b6f63",
   "metadata": {},
   "source": [
    "## Training model using GridSearchCV\n",
    "We are using GridSearchSV to find the best model."
   ]
  },
  {
   "cell_type": "code",
   "execution_count": null,
   "id": "c122dbf8-981a-4a8b-aef6-dc978c205ac2",
   "metadata": {
    "tags": []
   },
   "outputs": [],
   "source": [
    "X_train, X_test, y_train, y_test = \\\n",
    "    train_test_split(X, y, random_state=42, stratify=y)\n",
    "\n",
    "ct = ColumnTransformer(\n",
    "        [(\"scaling\",\n",
    "          StandardScaler(), \n",
    "          ['mean_CalledCount_A', \n",
    "           'mean_CalledCount_T', \n",
    "           'mean_CalledCount_G',\n",
    "           'mean_CalledCount_C'])],\n",
    "        remainder='passthrough')\n",
    "pipe = Pipeline([(\"classifier\", SVC())])\n",
    "params = [\n",
    "    {\"classifier\": [SVC()],\n",
    "     \"classifier__C\": [0.001, 0.01, 0.1, 1],\n",
    "     \"classifier__gamma\": [0.001, 0.01, 0.1, 1]\n",
    "    },\n",
    "    {\"classifier\": [RandomForestClassifier()],\n",
    "     \"classifier__max_depth\": [2, 3, 4, 5, 6, 7, 8, 9, 10, None],\n",
    "     \"classifier__max_features\": [1, 2, 3, 4]\n",
    "    },\n",
    "    {\"classifier\": [xgb.XGBClassifier(objective='binary:logistic')],\n",
    "     \"classifier__max_depth\": [2, 3, 4, 5, 6, 7, 8, 9, 10],\n",
    "     \"classifier__max_leaves\": [0, 1, 2, 3, 4],\n",
    "     \"classifier__learning_rate\": [None, 0.001, 0.01, 0.1, 1.0]\n",
    "    }]\n",
    "grid = GridSearchCV(pipe, param_grid=params, cv=5, n_jobs=4)\n",
    "X_train_scaled = ct.fit_transform(X_train)\n",
    "grid.fit(X_train_scaled, y_train)\n",
    "X_test_scaled  = ct.fit_transform(X_test)\n",
    "print(grid.score(X_test_scaled, y_test))\n",
    "print(grid.best_estimator_)\n",
    "print(grid.best_params_)\n",
    "## get the best model\n",
    "model = grid.best_estimator_\n",
    "print(f\"Best model score: {model.score(X_test_scaled, y_test):.2f}\")\n",
    "print(f\"Confusion matrix:\\n {confusion_matrix(y_test, model.predict(X_test_scaled))}\")\n",
    "print(f\"F1 score: {f1_score(y_test, model.predict(X_test_scaled), average='weighted'):.2f}\")\n",
    "print(f\"classification report:\\n{classification_report(y_test, model.predict(X_test_scaled))}\")\n",
    "print(f\"Cross validation score:\\n{cross_validate(model, X_train_scaled, y_train, cv=5)}\")\n",
    "print(f\"Average precision score: {average_precision_score(y_test, model.predict_proba(X_test_scaled)[:, 1]):.4f}\")\n",
    "precision, recall, thresholds = \\\n",
    "    precision_recall_curve(\n",
    "        y_test,\n",
    "        model.predict_proba(X_test_scaled)[:, 1])\n",
    "close_zero = \\\n",
    "    np.argmin(np.abs(thresholds - 0.5))\n",
    "plt.plot(\n",
    "    precision[close_zero],\n",
    "    recall[close_zero],\n",
    "    \"o\",\n",
    "    label=\"threshold zero\",\n",
    "    fillstyle=\"none\")\n",
    "plt.plot(\n",
    "    precision,\n",
    "    recall,\n",
    "    label=\"Precision - recall - XGBoost\")\n",
    "plt.xlabel(\"Precision\")\n",
    "plt.ylabel(\"Recall\")\n",
    "plt.legend(loc='best')\n",
    "plt.show()\n",
    "fpr, tpr, thresholds = \\\n",
    "    roc_curve(\n",
    "        y_test,\n",
    "        model.predict_proba(X_test_scaled)[:, 1])\n",
    "plt.plot(fpr, tpr, label=\"ROC - RF\")\n",
    "close_zero = \\\n",
    "    np.argmin(np.abs(thresholds - 0.5))\n",
    "plt.plot(\n",
    "    fpr[close_zero],\n",
    "    tpr[close_zero],\n",
    "    \"o\",\n",
    "    label=\"threshold\",\n",
    "    fillstyle=\"none\")\n",
    "plt.xlabel(\"FPR\")\n",
    "plt.ylabel(\"TPR\")\n",
    "plt.legend(loc=\"best\")\n",
    "plt.show()"
   ]
  },
  {
   "cell_type": "markdown",
   "id": "46ce0284-98d4-49f4-a2da-eb782446746d",
   "metadata": {},
   "source": [
    "## Export model"
   ]
  },
  {
   "cell_type": "code",
   "execution_count": null,
   "id": "08d12870-8926-4172-b06d-7eeacc4783fd",
   "metadata": {},
   "outputs": [],
   "source": [
    "import pickle\n",
    "file_name = \"xgb_reg.pkl\"\n",
    "pickle.dump(model, open(file_name, \"wb\"))"
   ]
  }
 ],
 "metadata": {
  "kernelspec": {
   "display_name": "Python 3 (ipykernel)",
   "language": "python",
   "name": "python3"
  },
  "language_info": {
   "codemirror_mode": {
    "name": "ipython",
    "version": 3
   },
   "file_extension": ".py",
   "mimetype": "text/x-python",
   "name": "python",
   "nbconvert_exporter": "python",
   "pygments_lexer": "ipython3",
   "version": "3.10.13"
  }
 },
 "nbformat": 4,
 "nbformat_minor": 5
}
