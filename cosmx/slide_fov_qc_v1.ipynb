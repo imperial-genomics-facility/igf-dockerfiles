{
 "cells": [
  {
   "cell_type": "markdown",
   "id": "0d77ab5c-9e19-4768-a56c-f1aac33583bf",
   "metadata": {},
   "source": [
    "# COSMX FOV REPORT FOR SLIDE {{ COSMX_SLIDE_NAME }}\n",
    "* **Notebook version:** v0.0.1\n",
    "* **Created by:** NIHR Imperial BRC Genomics Facility\n",
    "* **Maintained by:** NIHR Imperial BRC Genomics Facility\n",
    "* **Docker image path:** [Dockerfile](https://github.com/imperial-genomics-facility/igf-dockerfiles/tree/main/cosmx/Dockerfile_v1)\n",
    "* **Notebook code path:** [Templates](https://github.com/imperial-genomics-facility/igf-dockerfiles/tree/main/cosmx/)\n",
    "* **Created on:** {{ DATE_TAG }}\n",
    "* **Contact us:** [NIHR Imperial BRC Genomics Facility - Contact us](https://www.imperial.ac.uk/medicine/research-and-impact/facilities/genomics-facility/contact-us/)\n",
    "* **License:** Apache [License 2.0](https://github.com/imperial-genomics-facility/igf-dockerfiles/blob/main/LICENSE)\n",
    "\n",
    "\n",
    "* **Project name:** {{ COSMX_PROJECT_NAME }}\n",
    "* **Panel type:** {{ PANEL_NAME }}\n",
    "* **COSMX slide name:** {{ COSMX_SLIDE_NAME }}\n",
    "\n",
    "## Intro\n",
    "Field of View (FOV) quality control is crucial in CosMx spatial transcriptomics experiments because technical effects can significantly compromise data integrity and lead to misleading biological interpretations. While most FOVs typically perform comparably, some may experience reduced overall gene expression or selective signal loss from specific genes, potentially causing cells within an affected FOV to artificially cluster as the same cell type due to technical artifacts rather than true biological similarity. These quality issues can stem from various factors including poor tissue or section quality, high autofluorescence, and inadequate fiducials, making early detection and exclusion of problematic FOVs essential for reliable downstream analyses.\n",
    "\n",
    "The FOV QC process involves a systematic two-step approach implemented through specialized R functions. \n",
    "* First, a permissive signal strength assessment identifies FOVs with greater than 60% signal loss across most of their spatial span by comparing total counts in grid squares to similar regions in other FOVs.\n",
    "* Second, a more sophisticated bias detection method examines gene expression profiles at the reporter level rather than the gene level, since FOV quality issues are often linked to specific fluorescent reporters.\n",
    "\n",
    "\n",
    "## Source\n",
    "Bruker blog post: [FOV QC from single-cell gene expression in spatial dataset](https://nanostring-biostats.github.io/CosMx-Analysis-Scratch-Space/posts/fov-qc/)\n",
    "\n",
    "## Technical notes from the blog post\n",
    "```\n",
    "Technical details:\n",
    "\n",
    "We place a 7x7 grid across each FOV. For each grid square, we find the 10 most similar squares in other FOVs, with “similar” being based on the square’s expression profile (we also only accept one neighbor per other FOV).\n",
    "\n",
    "Then we score FOVs for signal loss. For each square, we compare its total counts to its comparator squares. For each reporter bit, this gives us 49 contrasts. If most (75%) of an FOV’s squares have low total counts compared to comparators, we flag the FOV.\n",
    "\n",
    "To score FOVs for bias, we use a similar approach. For each reporter, we take the genes using the bit, and we contrast their expression in the square vs. in the average of the 10 most similar squares elsewhere. When an FOV’s grid squares consistently underexpress the relevant gene set, we flag the FOV.\n",
    "```"
   ]
  },
  {
   "cell_type": "code",
   "execution_count": null,
   "id": "308ba63b-1ba6-4230-bd60-15fe91710fff",
   "metadata": {
    "vscode": {
     "languageId": "r"
    }
   },
   "outputs": [],
   "source": [
    "INPUT_PATH <- \"{{ COSMX_FLATFILE_PATH }}\"\n",
    "\n",
    "slidenames <- c(\"{{ COSMX_SLIDE_NAME }}\")"
   ]
  },
  {
   "cell_type": "code",
   "execution_count": null,
   "id": "1c74dc7c-1d72-4993-8892-b38ab7a98056",
   "metadata": {
    "vscode": {
     "languageId": "r"
    }
   },
   "outputs": [],
   "source": [
    "## source the necessary functions:\n",
    "source(\"https://raw.githubusercontent.com/Nanostring-Biostats/CosMx-Analysis-Scratch-Space/Main/_code/FOV%20QC/FOV%20QC%20utils.R\")\n",
    "## load barcodes:\n",
    "allbarcodes <- readRDS(url(\"https://github.com/Nanostring-Biostats/CosMx-Analysis-Scratch-Space/raw/Main/_code/FOV%20QC/barcodes_by_panel.RDS\"))"
   ]
  },
  {
   "cell_type": "code",
   "execution_count": null,
   "id": "4efe1847-47ce-4d0b-b0fd-a61feeb3833d",
   "metadata": {
    "vscode": {
     "languageId": "r"
    }
   },
   "outputs": [],
   "source": [
    "barcode_hash <- list(\n",
    "    \"(1.0) (1.0) Human RNA Immuno-oncology\" = \"Hs_IO\",\n",
    "    \"(1.0) (1.0) Human RNA Universal Cell Characterization\" = \"Hs_UCC\",\n",
    "    \"(1.1) (1.1) Human RNA 6k Discovery\" = \"Hs_6k\",\n",
    "    \"(1.0) (1.0) Mouse RNA Neuroscience\" = \"Mm_Neuro\",\n",
    "    \"(1.0) (1.0) Mouse RNA Universal Cell Characterization\" = \"Mm_UCC\",\n",
    "    \"(1.0) (1.0) Human RNA Whole Transcriptome\" = \"Hs_WTX\"\n",
    ")"
   ]
  },
  {
   "cell_type": "code",
   "execution_count": null,
   "id": "5621fdbc-edef-4ae9-a6e7-6a0c5a3a3d61",
   "metadata": {
    "vscode": {
     "languageId": "r"
    }
   },
   "outputs": [],
   "source": [
    "panel_name <- \"{{ PANEL_NAME }}\""
   ]
  },
  {
   "cell_type": "code",
   "execution_count": null,
   "id": "ff300b81-9b3c-4b02-bbf0-1c26bff750c8",
   "metadata": {
    "vscode": {
     "languageId": "r"
    }
   },
   "outputs": [],
   "source": [
    "panel_short_code <- barcode_hash[[panel_name]]\n",
    "if (is.null(panel_short_code)) {\n",
    "    stop(paste(\"Unknown slide panel found\", \": \",panel_name))\n",
    "}"
   ]
  },
  {
   "cell_type": "code",
   "execution_count": null,
   "id": "e7f6718c-fe10-42af-bb9e-65bbbc9e5701",
   "metadata": {
    "vscode": {
     "languageId": "r"
    }
   },
   "outputs": [],
   "source": [
    "barcodemap <- allbarcodes[[panel_short_code]]"
   ]
  },
  {
   "cell_type": "code",
   "execution_count": null,
   "id": "34a995f3-977f-41c0-b966-fe1c61cef403",
   "metadata": {
    "vscode": {
     "languageId": "r"
    }
   },
   "outputs": [],
   "source": [
    "# necessary libraries\n",
    "library(data.table) # for more memory efficient data frames\n",
    "#> Warning: package 'data.table' was built under R version 4.4.0\n",
    "library(Matrix) # for sparse matrices like our counts matrix\n",
    "library(viridis)\n",
    "library(uwot)\n",
    "#> Loading required package: Matrix\n",
    "library(irlba)  \n",
    "library(viridis)\n",
    "\n",
    "### lists to collect the counts matrices and metadata, one per slide\n",
    "countlist <- vector(mode='list', length=length(slidenames)) \n",
    "metadatalist <- vector(mode='list', length=length(slidenames)) \n",
    "\n",
    "for(i in 1:length(slidenames)){\n",
    "   \n",
    "  slidename <- slidenames[i] \n",
    "\n",
    "  msg <- paste0(\"Loading slide \", slidename, \", \", i, \"/\", length(slidenames), \".\")\n",
    "  #message(msg)    \n",
    "  # slide-specific files:\n",
    "  thisslidesfiles <- dir(paste0(INPUT_PATH, \"/\", slidename))\n",
    "  \n",
    "  # load in metadata:\n",
    "  thisslidesmetadata <- thisslidesfiles[grepl(\"metadata\\\\_file\", thisslidesfiles)]\n",
    "  tempdatatable <- data.table::fread(paste0(INPUT_PATH, \"/\", slidename, \"/\", thisslidesmetadata))\n",
    "  \n",
    "  # numeric slide ID \n",
    "  slide_ID_numeric <- tempdatatable[1,]$slide_ID \n",
    "    \n",
    "  # load in counts as a data table:\n",
    "  thisslidescounts <- thisslidesfiles[grepl(\"exprMat\\\\_file\", thisslidesfiles)]\n",
    "  \n",
    "  countsfile <- paste0(INPUT_PATH, \"/\", slidename, \"/\", thisslidescounts)\n",
    "  nonzero_elements_perchunk <- 5*10**7\n",
    "  ### Safely read in the dense (0-filled ) counts matrices in chunks.\n",
    "  ### Note: the file is gzip compressed, so we don't know a priori the number of chunks needed.\n",
    "  lastchunk <- FALSE \n",
    "  skiprows <- 0\n",
    "  chunkid <- 1\n",
    "  \n",
    "  required_cols <- fread(countsfile, select=c(\"fov\", \"cell_ID\"))\n",
    "  stopifnot(\"columns 'fov' and 'cell_ID' are required, but not found in the counts file\" = \n",
    "              all(c(\"cell_ID\", \"fov\") %in% colnames(required_cols)))\n",
    "  number_of_cells <- nrow(required_cols)\n",
    "  \n",
    "  number_of_cols <-  ncol(fread(countsfile, nrows = 2))\n",
    "  number_of_chunks <- ceiling(as.numeric(number_of_cols) * number_of_cells / (nonzero_elements_perchunk))\n",
    "  chunk_size <- floor(number_of_cells / number_of_chunks)\n",
    "  sub_counts_matrix <- vector(mode='list', length=number_of_chunks)\n",
    "   \n",
    "  #pb <- txtProgressBar(min = 0, max = number_of_chunks, initial = 0, char = \"=\",\n",
    "  #                     width = NA, title, label, style = 3, file = \"\")\n",
    "  cellcount <- 0\n",
    "  while(lastchunk==FALSE){\n",
    "    read_header <- FALSE\n",
    "    if(chunkid==1){\n",
    "      read_header <- TRUE\n",
    "    }\n",
    "    \n",
    "    countsdatatable <- data.table::fread(countsfile,\n",
    "                                         nrows=chunk_size,\n",
    "                                         skip=skiprows + (chunkid > 1),\n",
    "                                         header=read_header)\n",
    "    if(chunkid == 1){\n",
    "      header <- colnames(countsdatatable)\n",
    "    } else {\n",
    "      colnames(countsdatatable) <- header\n",
    "    }\n",
    "     \n",
    "    cellcount <- nrow(countsdatatable) + cellcount     \n",
    "    if(cellcount == number_of_cells) lastchunk <- TRUE\n",
    "    skiprows <- skiprows + chunk_size\n",
    "    slide_fov_cell_counts <- paste0(\"c_\",slide_ID_numeric, \"_\", countsdatatable$fov, \"_\", countsdatatable$cell_ID)\n",
    "    sub_counts_matrix[[chunkid]] <- as(countsdatatable[,-c(\"fov\", \"cell_ID\"),with=FALSE], \"sparseMatrix\") \n",
    "    rownames(sub_counts_matrix[[chunkid]]) <- slide_fov_cell_counts \n",
    "    #setTxtProgressBar(pb, chunkid)\n",
    "    chunkid <- chunkid + 1\n",
    "  }\n",
    "  \n",
    "  #close(pb)   \n",
    "  \n",
    "  countlist[[i]] <- do.call(rbind, sub_counts_matrix) \n",
    "  \n",
    "  # ensure that cell-order in counts matches cell-order in metadata   \n",
    "  slide_fov_cell_metadata <- paste0(\"c_\",slide_ID_numeric, \"_\", tempdatatable$fov, \"_\", tempdatatable$cell_ID)\n",
    "  countlist[[i]] <- countlist[[i]][match(slide_fov_cell_metadata, rownames(countlist[[i]])),] \n",
    "  metadatalist[[i]] <- tempdatatable \n",
    "  \n",
    "  # track common genes and common metadata columns across slides\n",
    "  if(i==1){\n",
    "    sharedgenes <- colnames(countlist[[i]]) \n",
    "    sharedcolumns <- colnames(tempdatatable)\n",
    "  }  else {\n",
    "    sharedgenes <- intersect(sharedgenes, colnames(countlist[[i]]))\n",
    "    sharedcolumns <- intersect(sharedcolumns, colnames(tempdatatable))\n",
    "  }\n",
    "    \n",
    "}\n",
    "# reduce to shared metadata columns and shared genes\n",
    "for(i in 1:length(slidenames)){\n",
    "  metadatalist[[i]] <- metadatalist[[i]][, ..sharedcolumns]\n",
    "  countlist[[i]] <- countlist[[i]][, sharedgenes]\n",
    "}\n",
    "counts <- do.call(rbind, countlist)\n",
    "metadata <- rbindlist(metadatalist)\n",
    "\n",
    "# add to metadata: add a global non-slide-specific FOV ID:\n",
    "## uncomment this line for merging multi slide dataset\n",
    "#metadata$FOV <- paste0(\"s\", metadata$slide_ID, \"f\", metadata$fov)\n",
    "## comment this line for merging multi slide dataset\n",
    "metadata$FOV <- paste0(\"FOV_\", metadata$fov)\n",
    "\n",
    "# remove cell_ID metadata column, which only identifies cell within slides, not across slides:\n",
    "metadata$cell_ID <- NULL\n",
    "\n",
    "# isolate negative control matrices:\n",
    "negcounts <- counts[, grepl(\"Negative\", colnames(counts))]\n",
    "falsecounts <- counts[, grepl(\"SystemControl\", colnames(counts))]\n",
    "\n",
    "# reduce counts matrix to only genes:\n",
    "counts <- counts[, !grepl(\"Negative\", colnames(counts)) & !grepl(\"SystemControl\", colnames(counts))]\n",
    "atomxdata <- list(counts = counts,\n",
    "                  metadata = metadata,\n",
    "                  negcounts = negcounts,\n",
    "                  falsecounts = falsecounts)\n",
    "# load cell metadata, output by the first vignette script, 0.-loading-flat-files.Rmd\n",
    "metadata <- atomxdata$metadata\n",
    "xy <- as.matrix(metadata[, c(\"CenterX_global_px\", \"CenterY_global_px\")])\n",
    "rownames(xy) <- metadata$cell_id\n",
    "# rescale to mm:\n",
    "thisinstrument_nanometers_per_pixel = 120.280945   \n",
    "# The above value holds for most instruments. Your RunSummary file specifies the value for your instrument. \n",
    "xy <- xy * thisinstrument_nanometers_per_pixel / 1000000\n",
    "colnames(xy) <- paste0(c(\"x\", \"y\"), \"_mm\")\n",
    "\n",
    "counts <- atomxdata$counts\n",
    "negcounts <- atomxdata$negcounts\n",
    "falsecounts <- atomxdata$falsecounts\n",
    "# require 20 counts per cell \n",
    "count_threshold <- 20\n",
    "flag <- metadata$nCount_RNA < count_threshold"
   ]
  },
  {
   "cell_type": "markdown",
   "id": "8b9772b3-ec1a-4f7f-9763-117e485a0986",
   "metadata": {},
   "source": [
    "This table shows the count of each unique value in the flag table."
   ]
  },
  {
   "cell_type": "code",
   "execution_count": null,
   "id": "3b5431f9-4baa-4fb2-9696-214f43252052",
   "metadata": {
    "vscode": {
     "languageId": "r"
    }
   },
   "outputs": [],
   "source": [
    "table(flag)"
   ]
  },
  {
   "cell_type": "markdown",
   "id": "4e04e251-c76d-43f4-8af8-d29c68344de9",
   "metadata": {},
   "source": [
    "### Cell area distribution\n",
    "Following histogram plot shows distribution of cell areas in this dataset.\n",
    "\n",
    "* Peak of the distribution occurs shows the most common cell area.\n",
    "* The spread shows the minimum and maximum cell sizes detected.\n",
    "* Normal distribution suggests consistent cell segmentation.\n",
    "* Right-skewed distribution (long tail toward larger areas) is common in biological data.\n",
    "* Multiple peaks might indicate different cell types or segmentation artifacts.\n",
    "* Very large or very small areas that might represent:\n",
    "  * Segmentation errors (cells that are too small or artificially merged)\n",
    "  * Debris or artifacts\n",
    "  * Genuinely different cell types\n",
    "\n",
    "This histogram is often used to identify thresholds for filtering out poorly segmented cells. For example, you might exclude cells that are extremely small (likely debris) or extremely large (likely merged cells or artifacts). The distribution helps you choose reasonable cutoff values for downstream analysis."
   ]
  },
  {
   "cell_type": "code",
   "execution_count": null,
   "id": "021c12ee-3e64-4aa7-a3e2-b0f6e1452a0a",
   "metadata": {
    "vscode": {
     "languageId": "r"
    }
   },
   "outputs": [],
   "source": [
    "## set plot size\n",
    "options(repr.plot.width=15, repr.plot.height=10)\n",
    "# what's the distribution of areas?\n",
    "hist(metadata$Area, breaks = 100, xlab = \"Cell Area\", main = \"\")\n",
    "# based on the above, set a threshold:\n",
    "area_threshold <- 30000\n",
    "abline(v = area_threshold, col = \"red\")"
   ]
  },
  {
   "cell_type": "markdown",
   "id": "004ef800-eb5d-4227-8371-6ce001b80628",
   "metadata": {},
   "source": [
    "### Number of flagged cells based on area"
   ]
  },
  {
   "cell_type": "code",
   "execution_count": null,
   "id": "5e1bfefd-3d84-4f32-89fc-d361dc62b518",
   "metadata": {
    "vscode": {
     "languageId": "r"
    }
   },
   "outputs": [],
   "source": [
    "# flag cells based on area:\n",
    "flag <- flag | (metadata$Area > area_threshold)\n",
    "table(flag)"
   ]
  },
  {
   "cell_type": "markdown",
   "id": "7c2bfce7-c12d-4b4b-86a4-ac40a4665c73",
   "metadata": {},
   "source": [
    "### List of QC failed FOVs"
   ]
  },
  {
   "cell_type": "code",
   "execution_count": null,
   "id": "8a8f4de7-acec-4feb-ac9f-52bed43b9937",
   "metadata": {
    "vscode": {
     "languageId": "r"
    }
   },
   "outputs": [],
   "source": [
    "## run the method:\n",
    "fovqcresult <- runFOVQC(counts = counts, xy = xy, fov = metadata$FOV, barcodemap = barcodemap, max_prop_loss = 0.6)\n"
   ]
  },
  {
   "cell_type": "markdown",
   "id": "faa65207-6038-4e1c-96dd-7dbe29619017",
   "metadata": {},
   "source": [
    "### Flagged FOVs\n",
    "\n",
    "This visualization creates a spatial plot showing which FOVs (Fields of View) have been flagged as problematic during the quality control process. It helps identify whether problematic FOVs are clustered together (suggesting localized technical issues like poor tissue preparation) or randomly distributed. Colors passing FOVs in <span style=\"color:steelblue\">blue</span> and failing FOVs are in <span style=\"color:red\">red</span>."
   ]
  },
  {
   "cell_type": "code",
   "execution_count": null,
   "id": "401b4471-5dcd-4e9d-9c45-43b5fe76e379",
   "metadata": {
    "vscode": {
     "languageId": "r"
    }
   },
   "outputs": [],
   "source": [
    "## set plot size\n",
    "options(repr.plot.width=18, repr.plot.height=12)\n",
    "# map of flagged FOVs:\n",
    "mapFlaggedFOVs(fovqcresult, shownames = TRUE)"
   ]
  },
  {
   "cell_type": "markdown",
   "id": "db69e9d9-90b1-4270-bb60-186cf8d130c6",
   "metadata": {},
   "source": [
    "#### List FOVs flagged for any reason, for loss of signal, for bias"
   ]
  },
  {
   "cell_type": "code",
   "execution_count": null,
   "id": "09660931-4744-443a-902e-e9a410ab631c",
   "metadata": {
    "vscode": {
     "languageId": "r"
    }
   },
   "outputs": [],
   "source": [
    "# list FOVs flagged for any reason, for loss of signal, for bias:\n",
    "fovqcresult$flaggedfovs"
   ]
  },
  {
   "cell_type": "markdown",
   "id": "de78f2f4-4cf0-4e9f-913d-f1333c7dc3bf",
   "metadata": {},
   "source": [
    "#### List FOVs flagged for loss of signal"
   ]
  },
  {
   "cell_type": "code",
   "execution_count": null,
   "id": "5df59373-3daf-46de-afa8-85938438bfd1",
   "metadata": {
    "vscode": {
     "languageId": "r"
    }
   },
   "outputs": [],
   "source": [
    "fovqcresult$flaggedfovs_fortotalcounts"
   ]
  },
  {
   "cell_type": "markdown",
   "id": "d64010b2-a508-4562-ab0a-2a64e91a6a42",
   "metadata": {},
   "source": [
    "#### List FOVs flagged for bias\n",
    "This identifies FOVs where certain barcode bits (fluorescent reporters) are systematically under-expressed compared to biologically similar regions in other FOVs.\n",
    "\n",
    "* The algorithm examines each of the 4 colors (B, G, Y, R) within each reporter cycle.\n",
    "* For each FOV's 7×7 grid squares, it compares expression of genes using specific barcode bits to the 10 most similar grid squares from other FOVs\n",
    "* An FOV gets flagged for bias if:\n",
    "  * At least 2 out of 4 colors from the same reporter cycle show significant bias (≥50% of that reporter cycle's bits are flagged)\n",
    "  * The bias exceeds the max_prop_loss threshold (default 60% signal loss)\n",
    "  * The effect is statistically significant (p < 0.01)\n",
    "  * At least 50% of the FOV's grid squares agree on the direction of the bias"
   ]
  },
  {
   "cell_type": "code",
   "execution_count": null,
   "id": "f8d44dab-250c-43e6-9160-747b75377dde",
   "metadata": {
    "vscode": {
     "languageId": "r"
    }
   },
   "outputs": [],
   "source": [
    "fovqcresult$flaggedfovs_forbias"
   ]
  },
  {
   "cell_type": "markdown",
   "id": "be9ef6da-01e3-4e77-81a8-6d0c5af974e9",
   "metadata": {},
   "source": [
    "### FOV signal loss pattern\n",
    "\n",
    "Following spatial visualization shows signal loss patterns across FOVs by displaying how total gene expression counts in each region compare to similar regions elsewhere. It helps researchers identify FOVs where cells are systematically expressing fewer total transcripts than expected based on comparable spatial regions in other FOVs. The yellow borders make it immediately clear which FOVs have been flagged for having >60% signal loss. <span style=\"color:#FFD700\">Yellow</span> rectangles with <b>thick borders</b> highlight FOVs that failed the total counts QC check. \n",
    "\n",
    "Each cell is plotted as a small dot colored according to its log2 fold-change in total counts compared to similar spatial regions:\n",
    "\n",
    "* Dark blue: Severe signal loss (< -2 fold-change)\n",
    "* Blue: Moderate signal loss (-1 fold-change)\n",
    "* Grey: Normal signal (0 fold-change)\n",
    "* Red: Higher signal (+1 fold-change)\n",
    "* Dark red: Much higher signal (> +2 fold-change)"
   ]
  },
  {
   "cell_type": "code",
   "execution_count": null,
   "id": "f598abd0-4aff-40ec-95ab-e577676dbf8b",
   "metadata": {
    "vscode": {
     "languageId": "r"
    }
   },
   "outputs": [],
   "source": [
    "FOVSignalLossSpatialPlot(fovqcresult, shownames = TRUE) "
   ]
  },
  {
   "cell_type": "markdown",
   "id": "8c16dc90-cc7d-4f41-8014-c6db20383c8e",
   "metadata": {},
   "source": [
    "### Spatial plots of flagged reporter positions\n",
    "This plot shows how specific barcode bits (fluorescent reporters) are performing across different spatial regions within FOVs, helping identify technical quality issues. It helps to validate FOV QC results by showing whether apparent expression differences are due to technical FOV effects or genuine biological spatial patterns.\n",
    "\n",
    "Color Coding:\n",
    "\n",
    "* Blue colors indicate underexpression (negative fold-change)\n",
    "* Red colors indicate overexpression (positive fold-change)\n",
    "* Gray indicates no change\n",
    "* The scale typically ranges from -1 to +1 log2 fold-change"
   ]
  },
  {
   "cell_type": "code",
   "execution_count": null,
   "id": "ca66c293-00fe-435e-8216-930d191289c8",
   "metadata": {
    "vscode": {
     "languageId": "r"
    }
   },
   "outputs": [],
   "source": [
    "# spatial plots of flagged reporter positions:\n",
    "par(mfrow = c(2,2))\n",
    "FOVEffectsSpatialPlots(res = fovqcresult, outdir = NULL, bits = \"flagged_reportercycles\") "
   ]
  },
  {
   "cell_type": "markdown",
   "id": "e6cce6ca-d01a-4827-8a1e-a52fbb356f60",
   "metadata": {},
   "source": [
    "## FOV bias\n",
    "This heatmap that shows the bias in barcode bit expression across all FOVs and reporter bits.\n",
    "\n",
    "* Rows: Each FOV in the experiment\n",
    "* Columns: Each barcode bit (reporter cycle + color combination, e.g., \"reportercycle1B\", \"reportercycle1G\", etc.)\n",
    "* Cell Values: Log2 fold-change showing how much each FOV under- or over-expresses genes using specific barcode bits compared to similar regions in other FOVs\n",
    "\n",
    "Color Scheme:\n",
    "\n",
    "* Dark blue: Severe underexpression (< -2 fold-change)\n",
    "* Blue: Moderate underexpression\n",
    "* White: Normal expression (0 fold-change)\n",
    "* Red: Moderate overexpression\n",
    "* Dark red: Severe overexpression (> +2 fold-change)\n",
    "\n",
    "The heatmap makes it easy to spot whether failures are:\n",
    "\n",
    "* Clustered within specific reporter cycles (technical issue)\n",
    "* Scattered randomly (potentially biological variation)\n",
    "* Affecting multiple FOVs in similar patterns"
   ]
  },
  {
   "cell_type": "code",
   "execution_count": null,
   "id": "6c4246bf-fbe4-4933-a7b5-b1c9c7d86053",
   "metadata": {
    "vscode": {
     "languageId": "r"
    }
   },
   "outputs": [],
   "source": [
    "## set plot size\n",
    "options(repr.plot.width=25, repr.plot.height=18)\n",
    "FOVEffectsHeatmap(fovqcresult)"
   ]
  },
  {
   "cell_type": "markdown",
   "id": "e68bf50c-b898-4bfc-9f7c-b657835956d2",
   "metadata": {},
   "source": [
    "### List of affected genes\n",
    "A list of all the unique gene names whose expression is compromised in one or more flagged FOVs."
   ]
  },
  {
   "cell_type": "code",
   "execution_count": null,
   "id": "b60dc071-31f3-4374-83c1-b59d667db8d9",
   "metadata": {
    "vscode": {
     "languageId": "r"
    }
   },
   "outputs": [],
   "source": [
    "# genes from all barcode bits that were flagged in any FOV:\n",
    "print(unique(fovqcresult$flagged_fov_x_gene[,\"gene\"]))"
   ]
  },
  {
   "cell_type": "code",
   "execution_count": null,
   "id": "895b407a-8e63-43d4-8ebd-aa4de9e30e31",
   "metadata": {
    "vscode": {
     "languageId": "r"
    }
   },
   "outputs": [],
   "source": []
  },
  {
   "cell_type": "code",
   "execution_count": null,
   "id": "2a81ed75-72c1-4ccf-a1d3-a886a83ac469",
   "metadata": {
    "vscode": {
     "languageId": "r"
    }
   },
   "outputs": [],
   "source": []
  },
  {
   "cell_type": "code",
   "execution_count": null,
   "id": "6284859f-d2fe-4954-85e4-353e9c9e6525",
   "metadata": {
    "vscode": {
     "languageId": "r"
    }
   },
   "outputs": [],
   "source": []
  }
 ],
 "metadata": {
  "kernelspec": {
   "display_name": "r-cosmx",
   "language": "R",
   "name": "ir413"
  },
  "language_info": {
   "codemirror_mode": "r",
   "file_extension": ".r",
   "mimetype": "text/x-r-source",
   "name": "R",
   "pygments_lexer": "r",
   "version": "4.4.3"
  }
 },
 "nbformat": 4,
 "nbformat_minor": 5
}
