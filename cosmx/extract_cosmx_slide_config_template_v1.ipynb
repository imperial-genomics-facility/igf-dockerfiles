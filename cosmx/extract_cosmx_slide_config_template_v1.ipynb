{
 "cells": [
  {
   "cell_type": "markdown",
   "id": "8c45183a",
   "metadata": {},
   "source": [
    "# COSMX EXTACT RUN CONFIG AND METADATA FOR SLIDE {{ COSMX_SLIDE_NAME }}\n",
    "* **Notebook version:** v0.0.1\n",
    "* **Created by:** NIHR Imperial BRC Genomics Facility\n",
    "* **Maintained by:** NIHR Imperial BRC Genomics Facility\n",
    "* **Docker image path:** [Dockerfile](https://github.com/imperial-genomics-facility/igf-dockerfiles/tree/main/cosmx/Dockerfile_v1)\n",
    "* **Notebook code path:** [Templates](https://github.com/imperial-genomics-facility/igf-dockerfiles/tree/main/cosmx/)\n",
    "* **Created on:** {{ DATE_TAG }}\n",
    "* **Contact us:** [NIHR Imperial BRC Genomics Facility - Contact us](https://www.imperial.ac.uk/medicine/research-and-impact/facilities/genomics-facility/contact-us/)\n",
    "* **License:** Apache [License 2.0](https://github.com/imperial-genomics-facility/igf-dockerfiles/blob/main/LICENSE)\n",
    "\n",
    "\n",
    "* **Project name:** {{ COSMX_PROJECT_NAME }}\n",
    "* **COSMX slide name:** {{ COSMX_SLIDE_NAME }}"
   ]
  },
  {
   "cell_type": "code",
   "execution_count": null,
   "id": "67cca8d0-1b68-41b0-b8ef-6142efeeb384",
   "metadata": {},
   "outputs": [],
   "source": [
    "import os\n",
    "import json\n",
    "from pathlib import Path\n",
    "import pandas as pd\n",
    "from typing import Dict, List"
   ]
  },
  {
   "cell_type": "code",
   "execution_count": null,
   "id": "daebd64c-b2ee-45bf-ad0b-d3faf6c4ec9e",
   "metadata": {},
   "outputs": [],
   "source": [
    "SLIDE_RAW_FILES_DIR = \"{{ SLIDE_RAW_FILES_DIR }}\"\n",
    "SLIDE_FLAT_FILES_DIR = \"{{ SLIDE_FLAT_FILES_DIR }}\"\n",
    "JSON_OUTPUT_PATH = \"{{ JSON_OUTPUT_PATH }}\""
   ]
  },
  {
   "cell_type": "code",
   "execution_count": null,
   "id": "fa7cfb07-f3b3-41c1-8403-9304934e41d6",
   "metadata": {},
   "outputs": [],
   "source": [
    "def find_expt_config_file(slide_raw_files_dir: str) -> str:\n",
    "    raw_slides_path = Path(slide_raw_files_dir)\n",
    "    run_summary_dir = [\n",
    "        raw_slides_path/dir_name/\"RunSummary\"\n",
    "            for dir_name in os.listdir(raw_slides_path)\n",
    "                if dir_name != \"Logs\"]\n",
    "    if len(run_summary_dir) == 0:\n",
    "        raise ValueError(\"No RunSummary path found\")\n",
    "    run_summary_dir = run_summary_dir[0]\n",
    "    if not run_summary_dir.exists():\n",
    "        raise IOError(f\"RunSummary path {run_summary_dir} not found\")\n",
    "    expt_config_file = [\n",
    "        file_name for file_name in run_summary_dir.glob(\"*ExptConfig.txt\")]\n",
    "    if len(expt_config_file) == 0:\n",
    "        raise ValeError(f\"No ExptConfig.txt file found in {run_summary_dir}\")\n",
    "    expt_config_file = expt_config_file[0]\n",
    "    return expt_config_file.as_posix()"
   ]
  },
  {
   "cell_type": "code",
   "execution_count": null,
   "id": "1bbb7b59-ac8e-4359-99c5-754769875d0e",
   "metadata": {},
   "outputs": [],
   "source": [
    "def read_expt_config_file(expt_config_file: str) -> Dict[str, str]:\n",
    "    if not os.path.exists(expt_config_file):\n",
    "        raise IOError(f\"ExptConfig file {expt_config_file} not found\")\n",
    "    run_summary = dict()\n",
    "    with open(expt_config_file, 'r') as fp:\n",
    "        for line in fp:\n",
    "            entries = line.strip().split(\":\")\n",
    "            if len(entries) == 2:\n",
    "                run_summary.update({entries[0]: entries[1].lstrip()})\n",
    "            else:\n",
    "                run_summary.update({entries[0]: \"\"})\n",
    "    return run_summary"
   ]
  },
  {
   "cell_type": "code",
   "execution_count": null,
   "id": "02200337-9c7e-43c5-b1a6-864c19d5cf49",
   "metadata": {},
   "outputs": [],
   "source": [
    "def get_slide_metadata_info(slide_flat_files_dir: str) -> Dict[str, str]:\n",
    "    flat_files_path = Path(slide_flat_files_dir)\n",
    "    metadata_file = [\n",
    "        file_name for file_name in flat_files_path.glob(\"*metadata_file.csv.gz\")]\n",
    "    if len(metadata_file) == 0:\n",
    "        raise IOError(f\"Failed to fine metadata file in flatFiles dir {slide_flat_files_dir}\")\n",
    "    metadata_file = metadata_file[0]\n",
    "    metadata_df = \\\n",
    "        pd.read_csv(\n",
    "            metadata_file,\n",
    "            compression=\"gzip\",\n",
    "            nrows=1)\n",
    "    slide_metadata = \\\n",
    "        metadata_df[['assay_type', 'version', 'Run_Tissue_name', 'Panel']].\\\n",
    "        drop_duplicates().\\\n",
    "        to_dict(orient='records')\n",
    "    if len(slide_metadata) == 0:\n",
    "        raise ValueError(f\"No metadata infor found in file {metadata_file.as_posix()}\")\n",
    "    slide_metadata = slide_metadata[0]\n",
    "    return slide_metadata"
   ]
  },
  {
   "cell_type": "code",
   "execution_count": null,
   "id": "47c2504a-859a-4ab9-8eb9-bf23e742e186",
   "metadata": {},
   "outputs": [],
   "source": [
    "def create_slide_metadata_json(slide_raw_files_dir: str, slide_flat_files_dir: str, json_file_path: str) -> None:\n",
    "    expt_config_file = find_expt_config_file(slide_raw_files_dir)\n",
    "    slide_config_data = read_expt_config_file(expt_config_file)\n",
    "    slide_metadata = get_slide_metadata_info(slide_flat_files_dir)\n",
    "    slide_config_data.update(**slide_metadata)\n",
    "    with open(json_file_path, 'w') as fp:\n",
    "        json.dump(slide_config_data, fp)"
   ]
  },
  {
   "cell_type": "code",
   "execution_count": null,
   "id": "5a54b288-4eae-4c50-acbe-adb9b0fd5a68",
   "metadata": {},
   "outputs": [],
   "source": [
    "create_slide_metadata_json(\n",
    "    slide_raw_files_dir=SLIDE_RAW_FILES_DIR,\n",
    "    slide_flat_files_dir=SLIDE_FLAT_FILES_DIR,\n",
    "    json_file_path=JSON_OUTPUT_PATH)"
   ]
  },
  {
   "cell_type": "code",
   "execution_count": null,
   "id": "9c2936ae-f60d-4f4f-9824-3e94f1e374df",
   "metadata": {},
   "outputs": [],
   "source": []
  }
 ],
 "metadata": {
  "kernelspec": {
   "display_name": "airflow_2.10.4",
   "language": "python",
   "name": "airflow_2.10.4"
  },
  "language_info": {
   "codemirror_mode": {
    "name": "ipython",
    "version": 3
   },
   "file_extension": ".py",
   "mimetype": "text/x-python",
   "name": "python",
   "nbconvert_exporter": "python",
   "pygments_lexer": "ipython3",
   "version": "3.10.16"
  }
 },
 "nbformat": 4,
 "nbformat_minor": 5
}
